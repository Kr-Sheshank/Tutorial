{
 "cells": [
  {
   "cell_type": "code",
   "execution_count": 14,
   "id": "f9703180-d462-4d19-ae22-48b6febdb93a",
   "metadata": {},
   "outputs": [
    {
     "name": "stdin",
     "output_type": "stream",
     "text": [
      "Enter a Number 10\n"
     ]
    }
   ],
   "source": [
    "a=int(input(\"Enter a Number\"))"
   ]
  },
  {
   "cell_type": "code",
   "execution_count": 15,
   "id": "c9cc6dc1-9e3c-467a-88b2-d6116602dfdc",
   "metadata": {},
   "outputs": [
    {
     "name": "stdin",
     "output_type": "stream",
     "text": [
      "Enter b number 5\n"
     ]
    }
   ],
   "source": [
    "b=int(input(\"Enter b number\"))"
   ]
  },
  {
   "cell_type": "code",
   "execution_count": 16,
   "id": "136a4c97-e9a3-4bdf-940f-e6000d0294b3",
   "metadata": {},
   "outputs": [
    {
     "name": "stdout",
     "output_type": "stream",
     "text": [
      "15\n"
     ]
    }
   ],
   "source": [
    "c=a+b\n",
    "print(c)"
   ]
  },
  {
   "cell_type": "code",
   "execution_count": null,
   "id": "bad19bc9-74fe-46e7-b6f3-a3a3ebf5178e",
   "metadata": {},
   "outputs": [],
   "source": []
  }
 ],
 "metadata": {
  "kernelspec": {
   "display_name": "Python 3 (ipykernel)",
   "language": "python",
   "name": "python3"
  },
  "language_info": {
   "codemirror_mode": {
    "name": "ipython",
    "version": 3
   },
   "file_extension": ".py",
   "mimetype": "text/x-python",
   "name": "python",
   "nbconvert_exporter": "python",
   "pygments_lexer": "ipython3",
   "version": "3.10.6"
  }
 },
 "nbformat": 4,
 "nbformat_minor": 5
}
